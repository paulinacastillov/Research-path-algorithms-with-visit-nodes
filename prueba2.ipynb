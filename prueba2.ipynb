{
 "cells": [
  {
   "cell_type": "code",
   "execution_count": 1,
   "metadata": {},
   "outputs": [],
   "source": [
    "\n",
    "from src.algorithms.a_star import a_star_search,a_star_search_modified\n",
    "from src.algorithms.greedy import greedy_search, greedy_search_mod\n",
    "from grid_generator import generate_grid, save_grid_to_csv\n",
    "import numpy as np\n",
    "import matplotlib.pyplot as plt\n",
    "import os\n",
    "import numpy as np\n",
    "from IPython.display import Image\n",
    "\n"
   ]
  },
  {
   "cell_type": "markdown",
   "metadata": {},
   "source": [
    "#Genera caminos aleatorios"
   ]
  },
  {
   "cell_type": "code",
   "execution_count": 2,
   "metadata": {},
   "outputs": [],
   "source": [
    "def save_grid_to_csv(grid, filename):\n",
    "    np.savetxt(filename, grid, fmt='%d', delimiter=',')\n",
    "\n"
   ]
  },
  {
   "cell_type": "code",
   "execution_count": 3,
   "metadata": {},
   "outputs": [],
   "source": [
    "import csv\n",
    "\n",
    "def analyze_grid_from_csv(filename):\n",
    "    with open(filename, newline='') as csvfile:\n",
    "        reader = csv.reader(csvfile)\n",
    "        grid = list(reader)\n",
    "\n",
    "    # Convert string numbers to integers\n",
    "    grid = [[int(num) for num in row] for row in grid]\n",
    "\n",
    "    # Find the position of number 4\n",
    "    for i, row in enumerate(grid):\n",
    "        for j, num in enumerate(row):\n",
    "            if num == 4:\n",
    "                start = (i, j)\n",
    "                break\n",
    "\n",
    "    # Find the numbers 1 that are not on the sides\n",
    "    # ones_positions = []\n",
    "    # for i in range(1, len(grid) - 1):\n",
    "    #     for j in range(1, len(grid[i]) - 1):\n",
    "    #         if grid[i][j] == 1:\n",
    "    #             ones_positions.append((i, j))\n",
    "\n",
    "    # Find the positions of number 3\n",
    "    threes_positions = []\n",
    "    for i, row in enumerate(grid):\n",
    "        for j, num in enumerate(row):\n",
    "            if num == 3:\n",
    "                threes_positions.append((i, j))\n",
    "\n",
    "    # Determine the end position based on the grid dimensions\n",
    "    end = (len(grid) - 1, len(grid[0]) - 1)\n",
    "\n",
    "    return  threes_positions\n"
   ]
  },
  {
   "cell_type": "code",
   "execution_count": 4,
   "metadata": {},
   "outputs": [],
   "source": [
    "n = 20 # tamaño del arreglo\n",
    "num_walls = 2*n\n",
    "grid_name = \"grid_3\"\n",
    "\n",
    "#grid, start, end, aproach_nodes = generate_grid(n, num_walls)\n",
    "\n",
    "filename = \"./data/grid_3.csv\"  # Replace \"your_file.csv\" with the actual filename\n",
    "with open(filename, newline='') as csvfile:\n",
    "        reader = csv.reader(csvfile)\n",
    "        grid = list(reader)\n",
    "grid = np.array( list(map(lambda inner_list: list(map(int, inner_list)), grid)))\n",
    "start = (0, 1)\n",
    "end = (n-1, n-2)\n",
    "aproach_nodes = analyze_grid_from_csv(filename)\n",
    "\n",
    "\n",
    "plt.imshow(grid, cmap='inferno')\n",
    "plt.savefig('./images/'+ grid_name +'.png')\n",
    "\n",
    "# inicio amarillo, blanco final, rojo puntos de recogida"
   ]
  },
  {
   "cell_type": "markdown",
   "metadata": {},
   "source": [
    " A * normalita"
   ]
  },
  {
   "cell_type": "code",
   "execution_count": 5,
   "metadata": {},
   "outputs": [
    {
     "name": "stdout",
     "output_type": "stream",
     "text": [
      "4869\n"
     ]
    }
   ],
   "source": [
    "\n",
    "\n",
    "# Lista de casillas a colorear\n",
    "casillas_colorear_A = a_star_search(grid,end)\n",
    "\n",
    "# Crear una matriz de colores basada en el laberinto y las casillas coloreadas\n",
    "color_matrix_A = np.zeros_like(grid, dtype=int)\n",
    "\n",
    "for i in range(5):\n",
    "    color_matrix_A[grid == i] = i\n",
    "\n",
    "\n",
    "#Colorear las casillas especificadas\n",
    "for casilla in casillas_colorear_A:\n",
    "    row = casilla // n\n",
    "    col = casilla % n\n",
    "    color_matrix_A[row, col] = 2\n",
    "\n",
    "color_matrix_A[grid == 3] = 3\n",
    "color_matrix_A[grid == 4] = 4\n",
    "color_matrix_A[grid == 5] = 5\n",
    "# Crear la imagen utilizando matplotlib\n",
    "plt.imshow(color_matrix_A, cmap='inferno')\n",
    "plt.savefig('./images/'+ grid_name +'_solved_A'+'.png')\n",
    "\n"
   ]
  },
  {
   "cell_type": "markdown",
   "metadata": {},
   "source": [
    "A* modificada con los pesos"
   ]
  },
  {
   "cell_type": "code",
   "execution_count": 6,
   "metadata": {},
   "outputs": [
    {
     "name": "stdout",
     "output_type": "stream",
     "text": [
      "6504\n"
     ]
    }
   ],
   "source": [
    "\n",
    "# Lista de casillas a colorear\n",
    "casillas_colorear_Amod = a_star_search_modified(grid,end,aproach_nodes)\n",
    "\n",
    "# Crear una matriz de colores basada en el laberinto y las casillas coloreadas\n",
    "color_matrix_Amod = np.zeros_like(grid, dtype=int)\n",
    "\n",
    "\n",
    "for i in range(5):\n",
    "    color_matrix_Amod[grid == i] = i\n",
    "\n",
    "\n",
    "#Colorear las casillas especificadas\n",
    "for casilla in casillas_colorear_Amod:\n",
    "    row = casilla // n\n",
    "    col = casilla % n\n",
    "    color_matrix_Amod[row, col] = 2\n",
    "\n",
    "color_matrix_Amod[grid == 3] = 3\n",
    "color_matrix_Amod[grid == 4] = 4\n",
    "color_matrix_Amod[grid == 5] = 5\n",
    "# Crear la imagen utilizando matplotlib\n",
    "plt.imshow(color_matrix_Amod, cmap='inferno')\n",
    "plt.savefig('./images/'+ grid_name +'_solved_A_mod'+'.png')\n"
   ]
  },
  {
   "cell_type": "markdown",
   "metadata": {},
   "source": [
    "Greedy normal"
   ]
  },
  {
   "cell_type": "code",
   "execution_count": 7,
   "metadata": {},
   "outputs": [],
   "source": [
    "\n",
    "# Lista de casillas a colorear\n",
    "casillas_colorear_greedy = greedy_search(grid,aproach_nodes)\n",
    "\n",
    "# Crear una matriz de colores basada en el laberinto y las casillas coloreadas\n",
    "color_matrix_greedy = np.zeros_like(grid, dtype=int)\n",
    "\n",
    "\n",
    "for i in range(5):\n",
    "    color_matrix_greedy[grid == i] = i\n",
    "\n",
    "\n",
    "#Colorear las casillas especificadas\n",
    "for casilla in casillas_colorear_greedy:\n",
    "    row = casilla // n\n",
    "    col = casilla % n\n",
    "    color_matrix_greedy[row, col] = 2\n",
    "\n",
    "color_matrix_greedy[grid == 3] = 3\n",
    "color_matrix_greedy[grid == 4] = 4\n",
    "color_matrix_greedy[grid == 5] = 5\n",
    "# Crear la imagen utilizando matplotlib\n",
    "plt.imshow(color_matrix_greedy, cmap='inferno')\n",
    "plt.savefig('./images/'+ grid_name +'_solved_greedy'+'.png')"
   ]
  },
  {
   "cell_type": "markdown",
   "metadata": {},
   "source": [
    "Greedy modificado\n"
   ]
  },
  {
   "cell_type": "code",
   "execution_count": 8,
   "metadata": {},
   "outputs": [
    {
     "name": "stdout",
     "output_type": "stream",
     "text": [
      "guardo cambios\n"
     ]
    }
   ],
   "source": [
    "\n",
    "# Lista de casillas a colorear\n",
    "casillas_colorear_greedy_mod = greedy_search_mod(grid,aproach_nodes)\n",
    "\n",
    "# Crear una matriz de colores basada en el laberinto y las casillas coloreadas\n",
    "color_matrix_greedy_mod = np.zeros_like(grid, dtype=int)\n",
    "\n",
    "\n",
    "for i in range(5):\n",
    "    color_matrix_greedy_mod[grid == i] = i\n",
    "\n",
    "\n",
    "#Colorear las casillas especificadas\n",
    "for casilla in casillas_colorear_greedy_mod:\n",
    "    row = casilla // n\n",
    "    col = casilla % n\n",
    "    color_matrix_greedy_mod[row, col] = 2\n",
    "\n",
    "color_matrix_greedy_mod[grid == 3] = 3\n",
    "color_matrix_greedy_mod[grid == 4] = 4\n",
    "color_matrix_greedy_mod[grid == 5] = 5\n",
    "# Crear la imagen utilizando matplotlib\n",
    "plt.imshow(color_matrix_greedy_mod, cmap='inferno')\n",
    "plt.savefig('./images/'+ grid_name +'_solved_greedy_mod'+'.png')"
   ]
  },
  {
   "cell_type": "code",
   "execution_count": 9,
   "metadata": {},
   "outputs": [
    {
     "data": {
      "image/png": "[encoded data removed]",
      "text/plain": [
       "<IPython.core.display.Image object>"
      ]
     },
     "execution_count": 9,
     "metadata": {},
     "output_type": "execute_result"
    }
   ],
   "source": [
    "Image(filename='./images/'+ grid_name +'.png') \n",
    "\n"
   ]
  },
  {
   "cell_type": "code",
   "execution_count": 10,
   "metadata": {},
   "outputs": [
    {
     "data": {
      "image/png": "[encoded data removed]",
      "text/plain": [
       "<IPython.core.display.Image object>"
      ]
     },
     "execution_count": 10,
     "metadata": {},
     "output_type": "execute_result"
    }
   ],
   "source": [
    "Image(filename='./images/'+ grid_name +'_solved_A'+'.png') \n"
   ]
  },
  {
   "cell_type": "code",
   "execution_count": 11,
   "metadata": {},
   "outputs": [
    {
     "data": {
      "image/png": "[encoded data removed]",
      "text/plain": [
       "<IPython.core.display.Image object>"
      ]
     },
     "execution_count": 11,
     "metadata": {},
     "output_type": "execute_result"
    }
   ],
   "source": [
    "Image(filename='./images/'+ grid_name +'_solved_A_mod'+'.png') "
   ]
  },
  {
   "cell_type": "code",
   "execution_count": 12,
   "metadata": {},
   "outputs": [
    {
     "data": {
      "image/png": "[encoded data removed]",
      "text/plain": [
       "<IPython.core.display.Image object>"
      ]
     },
     "execution_count": 12,
     "metadata": {},
     "output_type": "execute_result"
    }
   ],
   "source": [
    "Image(filename='./images/'+ grid_name +'_solved_greedy'+'.png') "
   ]
  },
  {
   "cell_type": "code",
   "execution_count": 13,
   "metadata": {},
   "outputs": [
    {
     "data": {
      "image/png": "[encoded data removed]",
      "text/plain": [
       "<IPython.core.display.Image object>"
      ]
     },
     "execution_count": 13,
     "metadata": {},
     "output_type": "execute_result"
    }
   ],
   "source": [
    "Image(filename='./images/'+ grid_name +'_solved_greedy_mod'+'.png') "
   ]
  },
  {
   "cell_type": "code",
   "execution_count": 14,
   "metadata": {},
   "outputs": [],
   "source": [
    "\n",
    "# folder_path = \"data\"\n",
    "# csv_filename = os.path.join(folder_path, grid_name + '.csv' )\n",
    "# save_grid_to_csv(grid, csv_filename)"
   ]
  },
  {
   "cell_type": "code",
   "execution_count": 15,
   "metadata": {},
   "outputs": [
    {
     "ename": "",
     "evalue": "",
     "output_type": "error",
     "traceback": [
      "\u001b[1;31mEl kernel se bloqueó al ejecutar código en la celda actual o en una celda anterior. \n",
      "\u001b[1;31mRevise el código de las celdas para identificar una posible causa del error. \n",
      "\u001b[1;31mHaga clic <a href='https://aka.ms/vscodeJupyterKernelCrash'>aquí</a> para obtener más información. \n",
      "\u001b[1;31mVea Jupyter <a href='command:jupyter.viewOutput'>log</a> para obtener más detalles."
     ]
    }
   ],
   "source": [
    "\n",
    "# folder_path = \"data\"\n",
    "# csv_filename = os.path.join(folder_path, grid_name + '.csv' )\n",
    "# save_grid_to_csv(grid, csv_filename)"
   ]
  },
  {
   "cell_type": "markdown",
   "metadata": {},
   "source": [
    "Cosas por hacer con este proyecto:\n",
    "\n",
    "* Hablar con el profe para que me recomiende que hacer para que se acerque a los nodos, algo así como mini objetivos o ciertas restricciones de que se debe acercar sí o sí\n",
    "* Escoger un ejemplo concreto y ver cuando hago cambios en las funciones\n",
    "* Hacer que se pueda cambiar la euristica sin cambiar la función, algo como un númerito o algo así\n",
    "* ver porqué monda salen esos maze de imagenes, creo que es el algoritmo de A* propiamente con la función de imprimir\n",
    "* comentar todo en ingles y subir a un repositorio\n",
    "* Comenzar a escirbir algo del documento escrito\n"
   ]
  },
  {
   "cell_type": "markdown",
   "metadata": {},
   "source": []
  }
 ],
 "metadata": {
  "kernelspec": {
   "display_name": "Python 3",
   "language": "python",
   "name": "python3"
  },
  "language_info": {
   "codemirror_mode": {
    "name": "ipython",
    "version": 3
   },
   "file_extension": ".py",
   "mimetype": "text/x-python",
   "name": "python",
   "nbconvert_exporter": "python",
   "pygments_lexer": "ipython3",
   "version": "3.10.8"
  }
 },
 "nbformat": 4,
 "nbformat_minor": 2
}
